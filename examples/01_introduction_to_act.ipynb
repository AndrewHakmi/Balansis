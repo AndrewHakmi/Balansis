{
 "cells": [
  {
   "cell_type": "markdown",
   "metadata": {},
   "source": [
    "# Introduction to Absolute Compensation Theory (ACT)\n",
    "\n",
    "Welcome to the Balansis library! This notebook introduces the fundamental concepts of Absolute Compensation Theory (ACT) and demonstrates how to work with `AbsoluteValue` objects.\n",
    "\n",
    "## What is Absolute Compensation Theory?\n",
    "\n",
    "ACT is a novel mathematical framework that replaces traditional concepts of zero and infinity with more stable alternatives:\n",
    "\n",
    "- **Absolute**: A special value representing the limit of compensation, replacing infinity\n",
    "- **Eternity**: Structural ratios that remain invariant under transformations\n",
    "- **Compensation**: Mathematical operations that maintain stability and prevent singularities\n",
    "\n",
    "## Core ACT Axioms\n",
    "\n",
    "1. **Compensation Axiom**: Every mathematical operation can be compensated to maintain stability\n",
    "2. **Stability Axiom**: Compensated operations preserve mathematical consistency\n",
    "3. **Eternity Axiom**: Structural relationships remain invariant under compensation"
   ]
  },
  {
   "cell_type": "code",
   "execution_count": null,
   "metadata": {},
   "outputs": [],
   "source": [
    "# Import the Balansis library\n",
    "import numpy as np\n",
    "import matplotlib.pyplot as plt\n",
    "from balansis.core.absolute import AbsoluteValue\n",
    "from balansis.core.eternity import EternalRatio\n",
    "from balansis.core.operations import *\n",
    "from balansis import ACT_EPSILON\n",
    "\n",
    "print(f\"Balansis library loaded successfully!\")\n",
    "print(f\"ACT Epsilon: {ACT_EPSILON}\")"
   ]
  },
  {
   "cell_type": "markdown",
   "metadata": {},
   "source": [
    "## Creating AbsoluteValue Objects\n",
    "\n",
    "The `AbsoluteValue` class is the foundation of ACT. It represents values with both magnitude and direction, providing stability in mathematical operations."
   ]
  },
  {
   "cell_type": "code",
   "execution_count": null,
   "metadata": {},
   "outputs": [],
   "source": [
    "# Create basic AbsoluteValue objects\n",
    "a = AbsoluteValue(magnitude=5.0, direction=1.0)  # Positive value\n",
    "b = AbsoluteValue(magnitude=3.0, direction=-1.0)  # Negative value\n",
    "c = AbsoluteValue(magnitude=2.0, direction=0.5)   # Partial direction\n",
    "\n",
    "print(f\"a = {a}\")\n",
    "print(f\"b = {b}\")\n",
    "print(f\"c = {c}\")\n",
    "\n",
    "# Create from regular float\n",
    "d = AbsoluteValue.from_float(7.5)\n",
    "e = AbsoluteValue.from_float(-4.2)\n",
    "\n",
    "print(f\"d = {d}\")\n",
    "print(f\"e = {e}\")"
   ]
  },
  {
   "cell_type": "markdown",
   "metadata": {},
   "source": [
    "## The Special 'Absolute' Value\n",
    "\n",
    "In ACT, we replace infinity with the concept of 'Absolute' - a stable representation of the limit of compensation."
   ]
  },
  {
   "cell_type": "code",
   "execution_count": null,
   "metadata": {},
   "outputs": [],
   "source": [
    "# Create the special Absolute value\n",
    "absolute_val = AbsoluteValue.absolute()\n",
    "\n",
    "print(f\"Absolute value: {absolute_val}\")\n",
    "print(f\"Is absolute? {absolute_val.is_absolute}\")\n",
    "print(f\"Magnitude: {absolute_val.magnitude}\")\n",
    "print(f\"Direction: {absolute_val.direction}\")\n",
    "\n",
    "# Check properties\n",
    "regular_val = AbsoluteValue(magnitude=10.0, direction=1.0)\n",
    "print(f\"Regular value is absolute? {regular_val.is_absolute}\")\n",
    "print(f\"Regular value is positive? {regular_val.is_positive}\")\n",
    "print(f\"Regular value is negative? {regular_val.is_negative}\")"
   ]
  },
  {
   "cell_type": "markdown",
   "metadata": {},
   "source": [
    "## Basic Arithmetic Operations\n",
    "\n",
    "ACT provides stable arithmetic operations that handle edge cases gracefully."
   ]
  },
  {
   "cell_type": "code",
   "execution_count": null,
   "metadata": {},
   "outputs": [],
   "source": [
    "# Basic arithmetic\n",
    "x = AbsoluteValue(magnitude=8.0, direction=1.0)\n",
    "y = AbsoluteValue(magnitude=3.0, direction=1.0)\n",
    "\n",
    "# Addition\n",
    "sum_result = x + y\n",
    "print(f\"{x} + {y} = {sum_result}\")\n",
    "\n",
    "# Subtraction\n",
    "diff_result = x - y\n",
    "print(f\"{x} - {y} = {diff_result}\")\n",
    "\n",
    "# Scalar multiplication\n",
    "scaled_result = x * 2.5\n",
    "print(f\"{x} * 2.5 = {scaled_result}\")\n",
    "\n",
    "# Negation\n",
    "neg_result = -x\n",
    "print(f\"-{x} = {neg_result}\")"
   ]
  },
  {
   "cell_type": "markdown",
   "metadata": {},
   "source": [
    "## Compensating Operations\n",
    "\n",
    "When values have opposite directions, ACT applies compensation to maintain stability."
   ]
  },
  {
   "cell_type": "code",
   "execution_count": null,
   "metadata": {},
   "outputs": [],
   "source": [
    "# Operations with opposite directions\n",
    "pos_val = AbsoluteValue(magnitude=5.0, direction=1.0)\n",
    "neg_val = AbsoluteValue(magnitude=5.0, direction=-1.0)\n",
    "\n",
    "print(f\"Positive value: {pos_val}\")\n",
    "print(f\"Negative value: {neg_val}\")\n",
    "\n",
    "# Addition of opposite values\n",
    "compensation_result = pos_val + neg_val\n",
    "print(f\"{pos_val} + {neg_val} = {compensation_result}\")\n",
    "print(f\"Is compensating? {compensation_result.is_compensating}\")\n",
    "\n",
    "# Partial compensation\n",
    "partial_pos = AbsoluteValue(magnitude=7.0, direction=0.8)\n",
    "partial_neg = AbsoluteValue(magnitude=3.0, direction=-0.6)\n",
    "\n",
    "partial_result = partial_pos + partial_neg\n",
    "print(f\"{partial_pos} + {partial_neg} = {partial_result}\")"
   ]
  },
  {
   "cell_type": "markdown",
   "metadata": {},
   "source": [
    "## Working with Absolute Values\n",
    "\n",
    "Operations involving the Absolute value demonstrate ACT's stability principles."
   ]
  },
  {
   "cell_type": "code",
   "execution_count": null,
   "metadata": {},
   "outputs": [],
   "source": [
    "# Operations with Absolute\n",
    "finite_val = AbsoluteValue(magnitude=100.0, direction=1.0)\n",
    "absolute_val = AbsoluteValue.absolute()\n",
    "\n",
    "print(f\"Finite value: {finite_val}\")\n",
    "print(f\"Absolute value: {absolute_val}\")\n",
    "\n",
    "# Addition with Absolute\n",
    "abs_sum = finite_val + absolute_val\n",
    "print(f\"{finite_val} + {absolute_val} = {abs_sum}\")\n",
    "\n",
    "# Subtraction with Absolute\n",
    "abs_diff = absolute_val - finite_val\n",
    "print(f\"{absolute_val} - {finite_val} = {abs_diff}\")\n",
    "\n",
    "# Scalar operations with Absolute\n",
    "abs_scaled = absolute_val * 0.5\n",
    "print(f\"{absolute_val} * 0.5 = {abs_scaled}\")"
   ]
  },
  {
   "cell_type": "markdown",
   "metadata": {},
   "source": [
    "## Comparison Operations\n",
    "\n",
    "ACT provides stable comparison operations that handle all edge cases."
   ]
  },
  {
   "cell_type": "code",
   "execution_count": null,
   "metadata": {},
   "outputs": [],
   "source": [
    "# Comparison operations\n",
    "val1 = AbsoluteValue(magnitude=5.0, direction=1.0)\n",
    "val2 = AbsoluteValue(magnitude=3.0, direction=1.0)\n",
    "val3 = AbsoluteValue(magnitude=5.0, direction=1.0)\n",
    "\n",
    "print(f\"val1 = {val1}\")\n",
    "print(f\"val2 = {val2}\")\n",
    "print(f\"val3 = {val3}\")\n",
    "\n",
    "print(f\"val1 == val3: {val1 == val3}\")\n",
    "print(f\"val1 > val2: {val1 > val2}\")\n",
    "print(f\"val2 < val1: {val2 < val1}\")\n",
    "\n",
    "# Comparison with Absolute\n",
    "abs_val = AbsoluteValue.absolute()\n",
    "print(f\"val1 < absolute: {val1 < abs_val}\")\n",
    "print(f\"absolute == absolute: {abs_val == AbsoluteValue.absolute()}\")"
   ]
  },
  {
   "cell_type": "markdown",
   "metadata": {},
   "source": [
    "## Conversion and Representation\n",
    "\n",
    "AbsoluteValue objects can be converted to standard Python types and have meaningful string representations."
   ]
  },
  {
   "cell_type": "code",
   "execution_count": null,
   "metadata": {},
   "outputs": [],
   "source": [
    "# Conversion to float\n",
    "val = AbsoluteValue(magnitude=7.5, direction=0.8)\n",
    "\n",
    "print(f\"AbsoluteValue: {val}\")\n",
    "print(f\"As float: {float(val)}\")\n",
    "print(f\"Magnitude: {val.magnitude}\")\n",
    "print(f\"Direction: {val.direction}\")\n",
    "\n",
    "# String representations\n",
    "print(f\"String representation: {str(val)}\")\n",
    "print(f\"Repr: {repr(val)}\")\n",
    "\n",
    "# Special cases\n",
    "zero_val = AbsoluteValue(magnitude=0.0, direction=0.0)\n",
    "abs_val = AbsoluteValue.absolute()\n",
    "\n",
    "print(f\"Zero value: {zero_val}\")\n",
    "print(f\"Absolute value: {abs_val}\")\n",
    "print(f\"Zero as float: {float(zero_val)}\")\n",
    "print(f\"Absolute as float: {float(abs_val)}\")"
   ]
  },
  {
   "cell_type": "markdown",
   "metadata": {},
   "source": [
    "## Visualizing AbsoluteValue Objects\n",
    "\n",
    "Let's create a simple visualization to understand the relationship between magnitude and direction."
   ]
  },
  {
   "cell_type": "code",
   "execution_count": null,
   "metadata": {},
   "outputs": [],
   "source": [
    "# Create a collection of AbsoluteValue objects\n",
    "values = [\n",
    "    AbsoluteValue(magnitude=1.0, direction=1.0),\n",
    "    AbsoluteValue(magnitude=2.0, direction=0.5),\n",
    "    AbsoluteValue(magnitude=3.0, direction=0.0),\n",
    "    AbsoluteValue(magnitude=2.5, direction=-0.5),\n",
    "    AbsoluteValue(magnitude=1.5, direction=-1.0),\n",
    "    AbsoluteValue(magnitude=4.0, direction=0.8),\n",
    "    AbsoluteValue(magnitude=3.5, direction=-0.3)\n",
    "]\n",
    "\n",
    "# Extract data for plotting\n",
    "magnitudes = [v.magnitude for v in values]\n",
    "directions = [v.direction for v in values]\n",
    "float_values = [float(v) for v in values]\n",
    "\n",
    "# Create plots\n",
    "fig, (ax1, ax2, ax3) = plt.subplots(1, 3, figsize=(15, 5))\n",
    "\n",
    "# Plot 1: Magnitude vs Direction\n",
    "ax1.scatter(directions, magnitudes, c='blue', s=100, alpha=0.7)\n",
    "ax1.set_xlabel('Direction')\n",
    "ax1.set_ylabel('Magnitude')\n",
    "ax1.set_title('AbsoluteValue: Magnitude vs Direction')\n",
    "ax1.grid(True, alpha=0.3)\n",
    "ax1.axhline(y=0, color='k', linestyle='-', alpha=0.3)\n",
    "ax1.axvline(x=0, color='k', linestyle='-', alpha=0.3)\n",
    "\n",
    "# Plot 2: Float representation\n",
    "ax2.bar(range(len(float_values)), float_values, color='green', alpha=0.7)\n",
    "ax2.set_xlabel('Value Index')\n",
    "ax2.set_ylabel('Float Value')\n",
    "ax2.set_title('Float Representation')\n",
    "ax2.grid(True, alpha=0.3)\n",
    "ax2.axhline(y=0, color='k', linestyle='-', alpha=0.3)\n",
    "\n",
    "# Plot 3: Polar representation\n",
    "ax3 = plt.subplot(133, projection='polar')\n",
    "angles = [d * np.pi/2 for d in directions]  # Convert direction to angle\n",
    "ax3.scatter(angles, magnitudes, c='red', s=100, alpha=0.7)\n",
    "ax3.set_title('Polar Representation')\n",
    "\n",
    "plt.tight_layout()\n",
    "plt.show()\n",
    "\n",
    "# Print summary\n",
    "print(\"\\nSummary of values:\")\n",
    "for i, v in enumerate(values):\n",
    "    print(f\"Value {i+1}: {v} -> float: {float(v):.3f}\")"
   ]
  },
  {
   "cell_type": "markdown",
   "metadata": {},
   "source": [
    "## Key Takeaways\n",
    "\n",
    "1. **AbsoluteValue** objects combine magnitude and direction for stable arithmetic\n",
    "2. **Absolute** replaces infinity with a stable, compensated representation\n",
    "3. **Compensation** occurs automatically when operations might cause instability\n",
    "4. **ACT axioms** ensure mathematical consistency and prevent singularities\n",
    "\n",
    "## Next Steps\n",
    "\n",
    "In the next notebook, we'll explore:\n",
    "- EternalRatio objects and structural ratios\n",
    "- Advanced compensated arithmetic operations\n",
    "- The Compensator engine for stability analysis\n",
    "\n",
    "Continue to `02_eternal_ratios_and_compensation.ipynb` to learn more!"
   ]
  }
 ],
 "metadata": {
  "kernelspec": {
   "display_name": "Python 3",
   "language": "python",
   "name": "python3"
  },
  "language_info": {
   "codemirror_mode": {
    "name": "ipython",
    "version": 3
   },
   "file_extension": ".py",
   "mimetype": "text/x-python",
   "name": "python",
   "nbconvert_exporter": "python",
   "pygments_lexer": "ipython3",
   "version": "3.10.0"
  }
 },
 "nbformat": 4,
 "nbformat_minor": 4
}